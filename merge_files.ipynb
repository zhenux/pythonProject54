{
 "cells": [
  {
   "cell_type": "code",
   "execution_count": 16,
   "metadata": {
    "collapsed": true,
    "pycharm": {
     "name": "#%%\n"
    }
   },
   "outputs": [
    {
     "name": "stdout",
     "output_type": "stream",
     "text": [
      "{\"url\":\".\\/info\\/help.php\",\"exitCode\":0}\n",
      "_imei_350424060069364_s_dt_2022_08_16_2008_00_00_e_dt_2022_08_16_2017_30_00\n",
      "_imei_359632102795827_s_dt_2022_08_16_2008_00_00_e_dt_2022_08_16_2017_30_00\n"
     ]
    }
   ],
   "source": [
    "import requests\n",
    "from bs4 import BeautifulSoup\n",
    "\n",
    "# from google.colab import files\n",
    "\n",
    "url_req_ = (['?imei=350424060069364&s_dt=2022-08-10%2011:50:00&e_dt=2022-08-10%2015:00:00',\n",
    "            '?imei=352094089278805&s_dt=2022-08-10%2011:50:00&e_dt=2022-08-10%2015:00:00'])\n",
    "\n",
    "url_req = (['?imei=350424060069364&s_dt=2022-08-16%2008:00:00&e_dt=2022-08-16%2017:30:00',\n",
    "            '?imei=359632102795827&s_dt=2022-08-16%2008:00:00&e_dt=2022-08-16%2017:30:00'])\n",
    "\n",
    "\n",
    "web_link = 'https://nav.by/info/testAccel.php'\n",
    "\n",
    "db_files = []\n",
    "\n",
    "### postman\n",
    "import requests\n",
    "\n",
    "url = \"https://nav.by/login_get_data.php?type=LOGIN&data%5Blogin%5D=diler_el_vek&data%5Bpwd%5D=111111&data%5BscreenWidth%5D=1920&data%5BscreenHeight%5D=1080\"\n",
    "\n",
    "payload = {}\n",
    "headers = {\n",
    "    'Cookie': 'pc_id=60b9bbc0-bef7-4c4b-9052-003672c5d1a9; ses_id=15fb4b00-046b-4e59-bd88-175381dd03b8'\n",
    "}\n",
    "\n",
    "response = requests.request(\"GET\", url, headers=headers, data=payload)\n",
    "\n",
    "print(response.text)\n",
    "\n",
    "\n",
    "### postman\n",
    "\n",
    "def remove_str(value, deletechars_):\n",
    "    for c in deletechars_:\n",
    "        value = value.replace(c, '_')\n",
    "    return value\n",
    "\n",
    "\n",
    "NUM_OF_FILES = len(url_req)\n",
    "for p in range(NUM_OF_FILES):\n",
    "\n",
    "    name_of_file = remove_str(url_req[p], '\\/:*?\"<>|&%=-')\n",
    "    db_files.append(name_of_file)\n",
    "\n",
    "    print(name_of_file)\n",
    "\n",
    "    file = open(name_of_file + \".csv\", \"w\")\n",
    "    file.close()\n",
    "\n",
    "    response = requests.request(\"GET\", web_link + url_req[p], headers=headers, data=payload)\n",
    "    soup = BeautifulSoup(response.text, 'lxml')\n",
    "\n",
    "    file = open(name_of_file + \".csv\", \"a+\")\n",
    "\n",
    "    quotes = soup.find_all('p')\n",
    "    for quote in quotes:\n",
    "        file.write(quote.text)\n",
    "    file.close()\n",
    "\n",
    "    file = open(name_of_file + \".csv\", \"r\")\n",
    "    lines = file.readlines()\n",
    "    file.close()\n",
    "\n",
    "    f_first_line = 1\n",
    "\n",
    "    file = open(name_of_file + \".csv\", \"w\")\n",
    "    for line in lines:\n",
    "        if f_first_line == 1:\n",
    "            file.write(line)\n",
    "            f_first_line = 0\n",
    "        if ((\n",
    "                line != \"date;speed;78;64011;64022;64033;64044;delta64011;delta64022;delta64033;delta64044;vodo;lat;lon;dir;alt;engine_speed;distance_gps;201;202;203;204;210;211;212;213;214;215;ain1;ain2;151\\n\") and (\n",
    "                line != \"\\n\")):\n",
    "            file.write(line)\n",
    "\n",
    "    file.close()"
   ]
  },
  {
   "cell_type": "code",
   "execution_count": 17,
   "outputs": [],
   "source": [
    "import pandas as pd\n",
    "from datetime import datetime\n",
    "\n",
    "df = pd.read_csv(db_files[0] + '.csv', sep=';', engine='python', decimal=',')\n",
    "df.columns = ['date', 'speed', 'rowdata', 'z', 'y', 'x_m', 'x_p', 'delta64011', 'delta64022', 'delta64033',\n",
    "              'delta64044', 'vodo', 'lat', 'lon', 'dir', 'alt', 'engine_speed', 'distance_gps', 'sum_ES',\n",
    "              'mark_ind1', 'sum_ES_APP', 'mark_ind2', 'sum_ES_2_APP', 'mark_ind3', 'sum_ES_APP_2', 'mark_ind4',\n",
    "              'sum_ES_2_APP_2', 'mark_ind5', 'AnIn1', 'AnIn2', 'CAN1']\n",
    "\n",
    "df_ = pd.read_csv(db_files[1] + '.csv', sep=';', engine='python', decimal=',')\n",
    "df_.columns = ['date', 'speed', 'rowdata', 'z', 'y', 'x_m', 'x_p', 'delta64011', 'delta64022', 'delta64033',\n",
    "              'delta64044', 'vodo', 'lat', 'lon', 'dir', 'alt', 'engine_speed', 'distance_gps', 'sum_ES',\n",
    "              'mark_ind1', 'sum_ES_APP', 'mark_ind2', 'sum_ES_2_APP', 'mark_ind3', 'sum_ES_APP_2', 'mark_ind4',\n",
    "              'sum_ES_2_APP_2', 'mark_ind5', 'AnIn1', 'AnIn2', 'CAN1']\n",
    "\n",
    "k = 0\n",
    "\n",
    "for i in range(2, len(df)):\n",
    "    while datetime.strptime(df.date[i], \"%Y-%m-%d %H:%M:%S.%f\") > datetime.strptime(df_.date[k], \"%Y-%m-%d %H:%M:%S.%f\"):\n",
    "        k += 1\n",
    "    df.at[i, 'sum_ES'] = df_.sum_ES[k]\n",
    "    df.at[i, 'sum_ES_APP'] = df_.sum_ES_APP[k]\n",
    "    df.at[i, 'sum_ES_2_APP'] = df_.sum_ES_2_APP[k]\n",
    "    df.at[i, 'sum_ES_APP_2'] = df_.sum_ES_APP_2[k]\n",
    "    df.at[i, 'sum_ES_2_APP_2'] = df_.sum_ES_2_APP_2[k]\n",
    "\n",
    "df.to_csv(db_files[0] + '_changed' + '.csv', index=False)"
   ],
   "metadata": {
    "collapsed": false,
    "pycharm": {
     "name": "#%%\n"
    }
   }
  },
  {
   "cell_type": "code",
   "execution_count": null,
   "outputs": [],
   "source": [],
   "metadata": {
    "collapsed": false,
    "pycharm": {
     "name": "#%%\n"
    }
   }
  }
 ],
 "metadata": {
  "kernelspec": {
   "display_name": "Python 3",
   "language": "python",
   "name": "python3"
  },
  "language_info": {
   "codemirror_mode": {
    "name": "ipython",
    "version": 2
   },
   "file_extension": ".py",
   "mimetype": "text/x-python",
   "name": "python",
   "nbconvert_exporter": "python",
   "pygments_lexer": "ipython2",
   "version": "2.7.6"
  }
 },
 "nbformat": 4,
 "nbformat_minor": 0
}